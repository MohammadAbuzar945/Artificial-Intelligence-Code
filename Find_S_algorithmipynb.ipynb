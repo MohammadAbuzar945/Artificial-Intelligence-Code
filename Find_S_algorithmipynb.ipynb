{
  "nbformat": 4,
  "nbformat_minor": 0,
  "metadata": {
    "colab": {
      "name": "Find-S algorithmipynb",
      "provenance": [],
      "collapsed_sections": [],
      "authorship_tag": "ABX9TyNyI89cROQGtGYjzyN2Uccx",
      "include_colab_link": true
    },
    "kernelspec": {
      "name": "python3",
      "display_name": "Python 3"
    },
    "language_info": {
      "name": "python"
    }
  },
  "cells": [
    {
      "cell_type": "markdown",
      "metadata": {
        "id": "view-in-github",
        "colab_type": "text"
      },
      "source": [
        "<a href=\"https://colab.research.google.com/github/MohammadAbuzar945/Artificial-Intelligence-Code/blob/main/Find_S_algorithmipynb.ipynb\" target=\"_parent\"><img src=\"https://colab.research.google.com/assets/colab-badge.svg\" alt=\"Open In Colab\"/></a>"
      ]
    },
    {
      "cell_type": "code",
      "execution_count": 1,
      "metadata": {
        "id": "aR3lUjhsn1Sx"
      },
      "outputs": [],
      "source": [
        "import pandas as pd\n",
        "import numpy as np"
      ]
    },
    {
      "cell_type": "code",
      "source": [
        "data = pd.read_csv('data.csv')"
      ],
      "metadata": {
        "id": "qc9MHClln_yT"
      },
      "execution_count": 2,
      "outputs": []
    },
    {
      "cell_type": "code",
      "source": [
        "concepts = np.array(data)[:,:-1]"
      ],
      "metadata": {
        "id": "aiNAfBxOoOl6"
      },
      "execution_count": 3,
      "outputs": []
    },
    {
      "cell_type": "code",
      "source": [
        "print(concepts)"
      ],
      "metadata": {
        "colab": {
          "base_uri": "https://localhost:8080/"
        },
        "id": "LiBrW8xuocBm",
        "outputId": "30026ecb-6d03-4ce8-d0ff-ed57323cdcd4"
      },
      "execution_count": 5,
      "outputs": [
        {
          "output_type": "stream",
          "name": "stdout",
          "text": [
            "[['sunny' 'warm' 'normal' 'strong' 'warm' 'same']\n",
            " ['sunny' 'warm' 'high' 'strong' 'warm' 'same']\n",
            " ['rainy' 'cold' 'high' 'strong' 'warm' 'change']\n",
            " ['sunny' 'warm' 'high' 'strong' 'cool' 'change']]\n"
          ]
        }
      ]
    },
    {
      "cell_type": "code",
      "source": [
        "target = np.array(data)[:,-1]"
      ],
      "metadata": {
        "id": "XouXWYPIolwq"
      },
      "execution_count": 7,
      "outputs": []
    },
    {
      "cell_type": "code",
      "source": [
        "print(target)"
      ],
      "metadata": {
        "colab": {
          "base_uri": "https://localhost:8080/"
        },
        "id": "SaR5EblVospO",
        "outputId": "729dbfc8-0caf-4046-a597-f27d0a15c19e"
      },
      "execution_count": 8,
      "outputs": [
        {
          "output_type": "stream",
          "name": "stdout",
          "text": [
            "['yes' 'yes' 'no' 'yes']\n"
          ]
        }
      ]
    },
    {
      "cell_type": "code",
      "source": [
        "def training (con , tar):\n",
        "  for i , val in enumerate(tar):\n",
        "    if val == 'yes':\n",
        "      specific_h = con[i].copy()\n",
        "      break;\n",
        "  for i , val in enumerate(con):\n",
        "    if tar[i] == 'yes':\n",
        "      for x in range (len(specific_h)):\n",
        "        if val[x] != specific_h[x]:\n",
        "          specific_h[x] ='?'\n",
        "        else:\n",
        "          pass\n",
        "\n",
        "  return specific_h                 "
      ],
      "metadata": {
        "id": "ibxzrQ7Boxjb"
      },
      "execution_count": 9,
      "outputs": []
    },
    {
      "cell_type": "code",
      "source": [
        "print(training(concepts , target))"
      ],
      "metadata": {
        "id": "_sDFDqojphtC",
        "outputId": "ee35328e-c5f8-4cb6-e99b-4cd3388993ef",
        "colab": {
          "base_uri": "https://localhost:8080/"
        }
      },
      "execution_count": 11,
      "outputs": [
        {
          "output_type": "stream",
          "name": "stdout",
          "text": [
            "['sunny' 'warm' '?' 'strong' '?' '?']\n"
          ]
        }
      ]
    }
  ]
}